{
 "cells": [
  {
   "cell_type": "code",
   "execution_count": 1,
   "id": "7c9e5c04-3db0-4c49-8ea4-050491a0292c",
   "metadata": {},
   "outputs": [],
   "source": [
    "import pyspark\n",
    "import os\n",
    "import json\n",
    "import argparse\n",
    "\n",
    "from pathlib import Path\n",
    "from pyspark.sql.types import StructType\n",
    "from pyspark.sql.functions import to_timestamp,col,when"
   ]
  },
  {
   "cell_type": "code",
   "execution_count": 2,
   "id": "ea747d38-2903-4911-943a-cfc2134b6671",
   "metadata": {
    "tags": []
   },
   "outputs": [],
   "source": [
    "sparkcontext = pyspark.SparkContext.getOrCreate(conf=(\n",
    "        pyspark\n",
    "        .SparkConf()\n",
    "        .setAppName('Dibimbing')\n",
    "        .setMaster('spark://dibimbing-dataeng-spark-master:7077')\n",
    "        .set(\"spark.jars\", \"/opt/postgresql-42.2.18.jar\")\n",
    "    ))\n",
    "sparkcontext.setLogLevel(\"WARN\")\n",
    "\n",
    "session = pyspark.sql.SparkSession(sparkcontext.getOrCreate())"
   ]
  },
  {
   "cell_type": "code",
   "execution_count": 6,
   "id": "4642f795-e5ee-4782-b190-804587dc09b5",
   "metadata": {
    "tags": []
   },
   "outputs": [
    {
     "name": "stdout",
     "output_type": "stream",
     "text": [
      "challenge_spark  data\t helper    notebooks\t     source_data\n",
      "challenge_sql\t docker  Makefile  requirements.txt\n"
     ]
    }
   ],
   "source": [
    "!ls /resources"
   ]
  }
 ],
 "metadata": {
  "kernelspec": {
   "display_name": "Python 3 (ipykernel)",
   "language": "python",
   "name": "python3"
  },
  "language_info": {
   "codemirror_mode": {
    "name": "ipython",
    "version": 3
   },
   "file_extension": ".py",
   "mimetype": "text/x-python",
   "name": "python",
   "nbconvert_exporter": "python",
   "pygments_lexer": "ipython3",
   "version": "3.10.10"
  }
 },
 "nbformat": 4,
 "nbformat_minor": 5
}
